{
 "cells": [
  {
   "cell_type": "markdown",
   "metadata": {},
   "source": [
    "# 物件導向程式設計(Object-Oriented Programming, OOP)"
   ]
  },
  {
   "cell_type": "markdown",
   "metadata": {},
   "source": [
    "## 類別(class)是定義物件(object)的屬性與行為\n",
    "* ### 物件為類別的實例(instance)\n",
    "* ### 資料項目為實例變數(instance variable)\n",
    "* ### 方法為實例方法(instance method)\n",
    "\n",
    "## 物件:用來表示真實世界裡可被明確辨識的實例\n",
    "  * 物件的身分(id): 用來識別物件。\n",
    "  * 物件的狀態(state)/特性(properties)/屬性(attributes): 用來表示資料項目(data field), 如圓形物件的radius, 矩形物件的width及height。\n",
    "  * 物件的行為(behavior/動作(action): 使用方法(method)定義行為, 如呼叫getArea()方法取得圓形物件面積, getPerimeter()取得周長。 \n",
    "### 相同型態的物件可利用共同的類別來定義\n",
    "  * 如食譜,可透過單一食譜(類別),來製作多個食物(物件)。"
   ]
  },
  {
   "cell_type": "markdown",
   "metadata": {},
   "source": [
    "## 定義類別\n",
    "* 當一新物件被建立時，需呼叫初始器(initializer)來執行初始化，建立含有初始值的資料項目。\n",
    "    *  所有方法的第一個參數是self，此參數參考到呼叫方法的物件。\n",
    "    *  self是參考到物件本身的參數\n",
    "    *  使用self可以存取類別定義中的物件成員。"
   ]
  },
  {
   "cell_type": "code",
   "execution_count": 2,
   "metadata": {},
   "outputs": [],
   "source": [
    "import math\n",
    "\n",
    "# 定義Circle類別\n",
    "class Circle:\n",
    "    \n",
    "    # 建構方法\n",
    "    def __init__(self, radius = 1):\n",
    "        self.radius = radius\n",
    "        \n",
    "    # 方法\n",
    "    def getPerimeter(self):\n",
    "        return 2 * self.radius * math.pi\n",
    "    def getArea(self):\n",
    "        return self.radius * self.radius * math.pi\n",
    "    def setRadius(self, radius):\n",
    "        self.radius = radius"
   ]
  },
  {
   "cell_type": "markdown",
   "metadata": {},
   "source": [
    "## 建立物件\n",
    "* ```Circle()``` ---- 無引數的建構方法，使用預設值radius=1來建立物件\n",
    "* ```Circle(5)``` --- 呼叫初始器將raidus設定為5來建立物件"
   ]
  },
  {
   "cell_type": "markdown",
   "metadata": {},
   "source": [
    "## 擷取物件成員\n",
    "* ### 物件的成員參考到資料項目與方法\n",
    "* ### 通常需將物件指定給一變數以擷取物件的資料項目與方法\n",
    "* ### 變數為一參考(reference)，它指向一物件\n",
    "如: ```c1 = Circle(5)```, ```c2 = Circle()```<br>\n",
    "(使用變數c1,c2來參考到物件Circle)\n",
    "\n",
    "* ### 使用點(.)運算子來存取物件的資料項目與呼叫物件的方法\n",
    "如: ```c1.radius```, ```c2.getArea()```\n",
    "* ### 匿名的物件\n",
    "```print(\"Area is\", Circle(5).getArea())``` <br>\n",
    "(未將物件指定給變數, 未使用變數來參考物件)"
   ]
  },
  {
   "cell_type": "markdown",
   "metadata": {},
   "source": [
    "### 範例一"
   ]
  },
  {
   "cell_type": "code",
   "execution_count": 3,
   "metadata": {},
   "outputs": [
    {
     "name": "stdout",
     "output_type": "stream",
     "text": [
      "The area of the circle of radius 1 is 3.141592653589793\n",
      "The area of the circle of radius 25 is 1963.4954084936207\n"
     ]
    }
   ],
   "source": [
    "# [from circle(檔名) import Circle(類別)]\n",
    "\n",
    "# 使用Circle類別建立Circle物件\n",
    "def main():\n",
    "    circle1 = Circle()    #使用變數circle1參考到物件Circle\n",
    "    print(\"The area of the circle of radius\", circle1.radius, \"is\", circle1.getArea())  #半徑預設為1\n",
    "    circle2 = Circle(25)\n",
    "    print(\"The area of the circle of radius\", circle2.radius, \"is\", circle2.getArea())\n",
    "\n",
    "main()   "
   ]
  },
  {
   "cell_type": "markdown",
   "metadata": {},
   "source": [
    "## UML 類別圖\n",
    "* ### UML (Unified Modeling Language)\n",
    "* ### 使用圖形符號來描述類別"
   ]
  },
  {
   "cell_type": "markdown",
   "metadata": {},
   "source": [
    "<table>\n",
    "    <td>類別名稱  ---->\n",
    "    <th> Circle\n",
    "    <th> TV\n",
    "<tr>\n",
    "    <td>資料項目  ----> \n",
    "    <td>radius: float\n",
    "    <td>channel: int<br>\n",
    "        volumnLevel: int<br>\n",
    "        on: bool  \n",
    "<tr> \n",
    "    <td>建構方法  ----> \n",
    "    <td>Circle(radius = 1: float)\n",
    "    <td>TV()   \n",
    "    <tr> -----------------\n",
    "<tr>\n",
    "    <td>方法    ---->  \n",
    "    <td>getArea():float<br>\n",
    "        getPerimeter(): float<br>\n",
    "        setRadius(radius:float): None\n",
    "    <td>turnOn()<br>\n",
    "        turnOff()<br>\n",
    "        getChannel()<br>\n",
    "        setChannel(channel: int):None<br>\n",
    "        getVolume(): int<br>\n",
    "        setVolume(volumeLevel:int):None<br>\n",
    "        channelUp(): None<br>\n",
    "        channelDown(): None<br>\n",
    "        volumeUp(): None<br>\n",
    "        volumeDown(): None"
   ]
  },
  {
   "cell_type": "markdown",
   "metadata": {},
   "source": [
    "### 範例二"
   ]
  },
  {
   "cell_type": "code",
   "execution_count": 4,
   "metadata": {},
   "outputs": [],
   "source": [
    "# 定義 TV 類別\n",
    "class TV:   \n",
    "    \n",
    "    # 建構方法\n",
    "    def __init__(self): \n",
    "        self.channel = 1       # 預設channel = 1\n",
    "        self.volume = 1        # 預設volume  = 1\n",
    "        self.on = False        # 預設TV 一開始為off\n",
    "        \n",
    "    # 方法\n",
    "    def turnOn(self):\n",
    "        self.on = True\n",
    "    def turnOff(self):\n",
    "        self.on = False\n",
    "    def getChannel(self):\n",
    "        return self.channel\n",
    "    def setChannel(self, channel):\n",
    "        if self.on and 1 <= self.channel <= 120:\n",
    "            self.channel = channel\n",
    "    def getVolume(self):\n",
    "        return self.volume\n",
    "    def setVolume(self, volume):\n",
    "        if self.on and 1 <= self.volume <= 9:\n",
    "            self.volume = volume\n",
    "    def channelUp(self):\n",
    "        if self.on and self.channel < 120:\n",
    "            self.channel += 1\n",
    "    def channelDown(self):\n",
    "        if self.on and self.channel > 1:\n",
    "            self.channel -= 1\n",
    "    def volumeUp(self):\n",
    "        if self.on and self.volume < 9:\n",
    "            self.volume += 1\n",
    "    def volumeDown(self):\n",
    "        if self.on and self.volume > 1:\n",
    "            self.volume -= 1"
   ]
  },
  {
   "cell_type": "code",
   "execution_count": 5,
   "metadata": {},
   "outputs": [
    {
     "name": "stdout",
     "output_type": "stream",
     "text": [
      "tv1's channel is 30 and volume level is 3\n",
      "tv2's channel is 3 and volume level is 2\n"
     ]
    }
   ],
   "source": [
    "# [ from TV(檔名) import TV(類別)]\n",
    "\n",
    "# 使用TV類別建立TV物件\n",
    "def main():\n",
    "    tv1 = TV()   # 使用變數tv1參考到物件TV\n",
    "    tv1.turnOn()\n",
    "    tv1.setChannel(30)\n",
    "    tv1.setVolume(3)\n",
    "    \n",
    "    tv2 = TV()\n",
    "    tv2.turnOn()\n",
    "    tv2.channelUp()\n",
    "    tv2.channelUp()\n",
    "    tv2.volumeUp()\n",
    "    \n",
    "    print(\"tv1's channel is\", tv1.getChannel(), \"and volume level is\", tv1.getVolume())\n",
    "    print(\"tv2's channel is\", tv2.getChannel(), \"and volume level is\", tv2.getVolume())\n",
    "\n",
    "main()"
   ]
  },
  {
   "cell_type": "markdown",
   "metadata": {},
   "source": [
    "## 定義私有資料項目\n",
    "* 為了防止直接修改資料項目, 不讓客戶端直接存取資料項目, 稱為資料隱藏(data hiding)\n",
    "* Python定義私有的資料項目方法為在其前面加兩個底線__\n",
    "* 私有的資料項目可以在類別內部被存取，但不可於類別外部存取\n",
    "* 定義get()與set()方法讓客戶端也能存取資料項目"
   ]
  },
  {
   "cell_type": "code",
   "execution_count": 6,
   "metadata": {},
   "outputs": [],
   "source": [
    "import math\n",
    "\n",
    "# 定義Circle類別\n",
    "class Circle:\n",
    "    \n",
    "    # 建構方法\n",
    "    def __init__(self, radius = 1):\n",
    "        self.__radius = radius\n",
    "        \n",
    "    # 方法\n",
    "    def getRadius(self):\n",
    "        return self.__radius\n",
    "    def getPerimeter(self):\n",
    "        return 2 * self.__radius * math.pi\n",
    "    def getArea(self):\n",
    "        return self.__radius * self.__radius * math.pi\n",
    "    def setRadius(self, __radius):\n",
    "        self.__radius = __radius"
   ]
  },
  {
   "cell_type": "code",
   "execution_count": 11,
   "metadata": {},
   "outputs": [
    {
     "ename": "AttributeError",
     "evalue": "'Circle' object has no attribute 'radius'",
     "output_type": "error",
     "traceback": [
      "\u001b[1;31m---------------------------------------------------------------------------\u001b[0m",
      "\u001b[1;31mAttributeError\u001b[0m                            Traceback (most recent call last)",
      "\u001b[1;32m<ipython-input-11-b91935a07bbf>\u001b[0m in \u001b[0;36m<module>\u001b[1;34m\u001b[0m\n\u001b[0;32m      1\u001b[0m \u001b[0mc\u001b[0m \u001b[1;33m=\u001b[0m \u001b[0mCircle\u001b[0m\u001b[1;33m(\u001b[0m\u001b[1;36m5\u001b[0m\u001b[1;33m)\u001b[0m\u001b[1;33m\u001b[0m\u001b[1;33m\u001b[0m\u001b[0m\n\u001b[1;32m----> 2\u001b[1;33m \u001b[0mc\u001b[0m\u001b[1;33m.\u001b[0m\u001b[0mradius\u001b[0m\u001b[1;33m(\u001b[0m\u001b[1;33m)\u001b[0m\u001b[1;33m\u001b[0m\u001b[1;33m\u001b[0m\u001b[0m\n\u001b[0m",
      "\u001b[1;31mAttributeError\u001b[0m: 'Circle' object has no attribute 'radius'"
     ]
    }
   ],
   "source": [
    "c = Circle(5)\n",
    "c.radius()"
   ]
  },
  {
   "cell_type": "code",
   "execution_count": null,
   "metadata": {},
   "outputs": [],
   "source": []
  }
 ],
 "metadata": {
  "kernelspec": {
   "display_name": "Python 3",
   "language": "python",
   "name": "python3"
  },
  "language_info": {
   "codemirror_mode": {
    "name": "ipython",
    "version": 3
   },
   "file_extension": ".py",
   "mimetype": "text/x-python",
   "name": "python",
   "nbconvert_exporter": "python",
   "pygments_lexer": "ipython3",
   "version": "3.7.1"
  }
 },
 "nbformat": 4,
 "nbformat_minor": 2
}
