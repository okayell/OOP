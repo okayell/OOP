{
 "cells": [
  {
   "cell_type": "code",
   "execution_count": 17,
   "metadata": {},
   "outputs": [],
   "source": [
    "# %load BMI.py\n",
    "class BMI:\n",
    "    def __init__(self, name, age, weight, height):\n",
    "        self.__name = name\n",
    "        self.__age = age\n",
    "        self.__weight = weight\n",
    "        self.__height = height\n",
    "    def getBMI(self):\n",
    "        kilogram_per_pound = 0.45359237\n",
    "        meters_per_inch = 0.0254\n",
    "        bmi = self.__weight * kilogram_per_pound / (self.__height * meters_per_inch)**2\n",
    "        return round(bmi*100) / 100\n",
    "    def getStatus(self):\n",
    "        bmi = self.getBMI()\n",
    "        if bmi < 18.5:\n",
    "            return \"Underweight\"\n",
    "        elif bmi < 25:\n",
    "            return \"Normal\"\n",
    "        elif bmi < 30:\n",
    "            return \"Overweight\"\n",
    "        else:\n",
    "            return \"Obese\"\n",
    "    def getName(self):\n",
    "        return self.__name\n",
    "    def getAge(self):\n",
    "        return self.__age\n",
    "    def getWeight(self):\n",
    "        return self.__weight\n",
    "    def getHeight(self):\n",
    "        return self.__height"
   ]
  },
  {
   "cell_type": "code",
   "execution_count": 19,
   "metadata": {},
   "outputs": [
    {
     "name": "stdout",
     "output_type": "stream",
     "text": [
      "The BMI for John is 20.81 : Normal\n",
      "The BMI for Peter is 30.85 : Obese\n"
     ]
    }
   ],
   "source": [
    "def main():\n",
    "    bmi1 = BMI(\"John\",18,145,70)\n",
    "    print(\"The BMI for\", bmi1.getName(), \"is\", bmi1.getBMI(), \":\", bmi1.getStatus())\n",
    "    \n",
    "    bmi2 = BMI(\"Peter\",50,215,70)\n",
    "    print(\"The BMI for\", bmi2.getName(), \"is\", bmi2.getBMI(), \":\", bmi2.getStatus())    \n",
    "\n",
    "main()"
   ]
  }
 ],
 "metadata": {
  "kernelspec": {
   "display_name": "Python 3",
   "language": "python",
   "name": "python3"
  },
  "language_info": {
   "codemirror_mode": {
    "name": "ipython",
    "version": 3
   },
   "file_extension": ".py",
   "mimetype": "text/x-python",
   "name": "python",
   "nbconvert_exporter": "python",
   "pygments_lexer": "ipython3",
   "version": "3.7.1"
  }
 },
 "nbformat": 4,
 "nbformat_minor": 2
}
