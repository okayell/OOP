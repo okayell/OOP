{
 "cells": [
  {
   "cell_type": "markdown",
   "metadata": {},
   "source": [
    "# 繼承（inheritance）\n",
    "##### 物件導向程式設計允許從已經存在的類別來定義新的類別，稱為繼承。\n",
    "* ### 定義一般化類別(如:父類別)，接著延伸此一般化類別來定義特定的類別(如:子類別)\n",
    "* ### 此特定類別則繼承了一般化類別的特性與方法\n",
    "* ### 子類別除了繼承父類別中所有可存取的資料項目與方法外，也可以增加新的資料項目與方法"
   ]
  },
  {
   "cell_type": "markdown",
   "metadata": {},
   "source": [
    "## 使用下列語法來繼承父類別:\n",
    "* 語法: ```class 子類別(父類別):```\n",
    "* 呼叫  ```__str__()```方法取得定義在父類別的屬性\n",
    "* 呼叫  ```super().__init__()```方法取得定義在父類別的```__init__()```方法"
   ]
  },
  {
   "cell_type": "markdown",
   "metadata": {},
   "source": [
    "## 範例\n",
    "#### 建立GeometricObject (父類別)"
   ]
  },
  {
   "cell_type": "code",
   "execution_count": 35,
   "metadata": {},
   "outputs": [],
   "source": [
    "class GeometricObject():\n",
    "    def __init__(self, color=\"green\", filled=True):\n",
    "        self.__color = color\n",
    "        self.__filled = filled\n",
    "    def getColor(self):\n",
    "        return self.__color\n",
    "    def setColor(self, color):\n",
    "        self.__color = color\n",
    "    def isFilled(self):\n",
    "        return self.__filled\n",
    "    def setFilled(self, filled):\n",
    "        self.__filled = filled\n",
    "    def __str__(self):\n",
    "        return \"color: \" + self.__color + \" and filled: \" + str(self.__filled)"
   ]
  },
  {
   "cell_type": "markdown",
   "metadata": {},
   "source": [
    "#### Circle_From_GeometricObject (子類別)"
   ]
  },
  {
   "cell_type": "code",
   "execution_count": 36,
   "metadata": {},
   "outputs": [],
   "source": [
    "import math\n",
    "# from GeometricObject import GeometricObject\n",
    "\n",
    "class Circle(GeometricObject):\n",
    "    def __init__(self, radius = 1):\n",
    "        super().__init__()\n",
    "        self.__radius = radius\n",
    "    def getRadius(self):\n",
    "        return self.__radius\n",
    "    def setRadius(self, radius):\n",
    "        self.__radius = radius\n",
    "    def getArea(self):\n",
    "        return self.__radius * self.__radius * math.pi\n",
    "    def getDiameter(self):\n",
    "        return 2 * self.__radius\n",
    "    def getPerimeter(self):\n",
    "        return 2 * self.__radius * math.pi\n",
    "    def printCircle(self):\n",
    "        print(self.__str__() + \" radius: \" + str(self.__radius))"
   ]
  },
  {
   "cell_type": "markdown",
   "metadata": {},
   "source": [
    "#### Rectangle_From_GeometricObject (子類別)"
   ]
  },
  {
   "cell_type": "code",
   "execution_count": 37,
   "metadata": {},
   "outputs": [],
   "source": [
    "# from GeometricObject import GeometricObject\n",
    "\n",
    "class Rectangle(GeometricObject):\n",
    "    def __init__(self, width=1, height=1):\n",
    "        super().__init__()\n",
    "        self.__width = width\n",
    "        self.__height = height\n",
    "    def getWidth(self):\n",
    "        return self.__width\n",
    "    def setWidth(self, width):\n",
    "        self.__width = width\n",
    "    def getHeight(self):\n",
    "        return self.__height\n",
    "    def setHeight(self,height):\n",
    "        self.__height = height\n",
    "    def getArea(self):\n",
    "        return self.__height * self.__width\n",
    "    def getPerimeter(self):\n",
    "        return 2 * (self.__width + self.__height)\n",
    "    def printRectangle(self):\n",
    "        print(self._str__() + \" width: \" + str(self.__width) + \"height: \" + str(self.__height))"
   ]
  },
  {
   "cell_type": "markdown",
   "metadata": {},
   "source": [
    "#### 測試"
   ]
  },
  {
   "cell_type": "code",
   "execution_count": 38,
   "metadata": {},
   "outputs": [
    {
     "name": "stdout",
     "output_type": "stream",
     "text": [
      "A circle color: green and filled: True\n",
      "The radius is 1.5\n",
      "The area is 7.0685834705770345\n",
      "The diameter is 3.0\n",
      "\n",
      "A rectangle color: green and filled: True\n",
      "The area is 8\n",
      "The perimeter is 12\n"
     ]
    }
   ],
   "source": [
    "# from CircleFromGeometricObject import Circle\n",
    "# from RectangalFromGeometricObject import Rectangle\n",
    "\n",
    "def main():\n",
    "    circle = Circle(1.5)\n",
    "    print(\"A circle\", circle)\n",
    "    print(\"The radius is\", circle.getRadius())\n",
    "    print(\"The area is\", circle.getArea())\n",
    "    print(\"The diameter is\", circle.getDiameter())\n",
    "    \n",
    "    rectangle = Rectangle(2,4)\n",
    "    print(\"\\nA rectangle\", rectangle)\n",
    "    print(\"The area is\", rectangle.getArea())\n",
    "    print(\"The perimeter is\", rectangle.getPerimeter())\n",
    "\n",
    "main()"
   ]
  },
  {
   "cell_type": "markdown",
   "metadata": {},
   "source": [
    "* ### 子類別並非父類別的子集合。子類別通常比父類別有更多的資訊與方法。\n",
    "* ### Python允許從一些類別中延伸出一個子類別，此稱為多重繼承(multiple inheritance)\n",
    "#### 語法: ```class Subclass(SuperClass1, SuperClass2, ...):```"
   ]
  },
  {
   "cell_type": "markdown",
   "metadata": {},
   "source": [
    "## 覆寫方法（method overriding）\n",
    "##### 覆寫方法必須在子類別中重新被定義，並使用與父類別相同的名子與標頭。"
   ]
  },
  {
   "cell_type": "markdown",
   "metadata": {},
   "source": [
    "```class Circle(GeometricObject):\n",
    "    ...\n",
    "    def __str__(self):\n",
    "        return super().__str__() + \" radius: \" + str(radius)\n",
    "```\n",
    "<br>\n",
    "* \\_\\_str\\_\\_()方法被GeometricObject類別定義且被Circle類別修改"
   ]
  },
  {
   "cell_type": "markdown",
   "metadata": {},
   "source": [
    "## Object類別\n",
    "##### 在python中的類別都是來自object類別"
   ]
  },
  {
   "cell_type": "markdown",
   "metadata": {},
   "source": [
    "* ### object類別定義於Python函示庫\n",
    "* ### 當定義類別沒有指定繼承時，則此類別預設的父類別就是object類別\n",
    "class ClassName:  等同      class ClassName(object):\n",
    "* ### 所有定義於object的方法都是特別的方法, 它們前後都有兩個底線\\_\\_，如下四個方法:"
   ]
  },
  {
   "cell_type": "markdown",
   "metadata": {},
   "source": [
    "1. \\_\\_new\\_\\_()方法:<br> * 當一物件被建立，將自動呼叫``__new__()``方法\n",
    "2. \\_\\_init\\_\\_()方法:<br> * 呼叫``__new__()``方法後，接著呼叫``__init__()``用以初始物件<br>* 正常情況下，應該只有複寫``__init__()``方法來初始新類別的資料項目\n",
    "3. \\_\\_str\\_\\_()方法:<br>* ``__str__()``方法回傳描述此物件的字串<br>* 預設回傳的字串為物件的名稱及物件在記憶體的位置(16進位表示)    \n",
    "        loan = Loan(1,1,1, \"Smith\")\n",
    "        print(loan)\n",
    "        # <Loan.loan object at 0x1B99C10>\n",
    "4. \\_\\_eq\\_\\_(other)方法:<br> * 若兩個物件是相同的，則回傳True。\n",
    "        x.__eq__(x)   ---> True\n",
    "        x.__eq__(y)   ---> False\n",
    "  \\* 因x,y是兩個不同的物件，所以即使兩個物件有相同內容也是False<br>\n",
    "  \\* Python內建的類別，如:int,float,bool,string及list，已覆寫\\_\\_eq\\_\\_(other)方法，故當兩個物件有相同內容時，將回傳True。"
   ]
  }
 ],
 "metadata": {
  "kernelspec": {
   "display_name": "Python 3",
   "language": "python",
   "name": "python3"
  },
  "language_info": {
   "codemirror_mode": {
    "name": "ipython",
    "version": 3
   },
   "file_extension": ".py",
   "mimetype": "text/x-python",
   "name": "python",
   "nbconvert_exporter": "python",
   "pygments_lexer": "ipython3",
   "version": "3.7.1"
  }
 },
 "nbformat": 4,
 "nbformat_minor": 2
}
